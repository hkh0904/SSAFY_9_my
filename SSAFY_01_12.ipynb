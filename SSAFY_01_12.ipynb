{
 "cells": [
  {
   "attachments": {},
   "cell_type": "markdown",
   "metadata": {},
   "source": [
    "## Git의 개념\n",
    "\n",
    "`git 이 관리하는 3가지 영역`\n",
    "- Working Directory : 사용자의 작업이 이루어지는 곳\n",
    "- Staging Area ( = Index) : 커밋을 위한 파일, 폴더가 추가되는 곳\n",
    "- Repository : staging area 에 있던 파일 및 폴더의 변경사항을 저장하는 곳\n",
    "\n",
    "Working Directory => Staging Area => Repository 의 과정으로 버전관리를 수행합니다.\n",
    "\n",
    "`git init`\n",
    "\n",
    "- 현재 작업중인 디렉토리를 Git으로 관리한다는 명령어\n",
    "- .git 이라는 숨김폴더를 생성, 터미널에는 master라고 표기됨\n",
    "\n",
    "`주의사항`\n",
    "- 이미 Git으로 관리되고 있는 폴더 안에서 또다른 Git 저장소를 만들지 않도록 주의!!\n",
    "  (터미널에 이미 master가 표시되어있다면 git init 명령어 사용 금지)\n",
    "- 절대로 홈디렉토리에서 git init 명령을 사용하지 않는다.\n",
    "\n",
    "`git status`\n",
    "- Working Directory 와 Staging Area에 있는 파일의 현재 상태를 알려주는 명령어\n",
    "- 어떤 작업을 시행하기 전에 수시로 status로 현재 상태를 확인하면 좋음\n",
    "\n",
    "`파일의 상태`\n",
    "1. Untracked : Git이 관리하지 않는 파일(한번도 Staging Area에 올라간 적 없는 파일)\n",
    "2. Tracked : Gig이 관리하는 파일\n",
    " 1. Unmodified : 최신상태\n",
    " 2. Modified : 수정되었지만 아직 Staging Area 에는 올라가지 않은 상태\n",
    " 3. Staged : Staging Area에 올라간 상태"
   ]
  },
  {
   "attachments": {},
   "cell_type": "markdown",
   "metadata": {},
   "source": [
    "```gid add```\n",
    "- Working Directory에 있는 파일을 Staging Area로 올리는 명령어\n",
    "- Git이 해당 파일을 추적(관리)할 수 있도록 만든다.\n",
    "- Untracked, Modified => Stagge로 상태를 변경한다.\n",
    "\n",
    "파일 하나만 올리기\n",
    "git add 파일이름\n",
    "\n",
    "폴더 올리기\n",
    "git add 폴더이름\n",
    "\n",
    "현재 디렉토리에 속한 파일/폴더 전부\n",
    "git add .\n",
    "\n",
    "   ```git commit```\n",
    "    \n",
    "   - Staing Area에 올라온 파일의 변경사항을 하나의 버전(커밋)으로 저장하는 명령어\n",
    "   - 커밋 메세지는 현재 변경사항들을 잘 나타낼 수 있도록 의미있게 작성하는 것을 권장\n",
    "   - 각각의 커밋은 sha-1 알고리즙에 의해 반환된 고유의 해시값을 ID로 가진다.\n",
    "   - root commit 은 해당 커밋이 최초의 커밋일 때만 표시된다.\n",
    "\n",
    "   ```git log```\n",
    "\n",
    "   - 커밋 내역(ID, 작성자, 시간, 메세지)를 조회할 수 있는 명령어\n",
    "   - 옵션\n",
    "       - ```--online``` : 한줄로 축약해서 보여준다.\n",
    "       - ```--graph``` : 브랜치와 머지 내역을 그래프로 보여준다."
   ]
  },
  {
   "attachments": {},
   "cell_type": "markdown",
   "metadata": {},
   "source": [
    "## 원격 저장소에 업로드\n",
    "\n",
    "- 파일을 Github 원격 저장소에 업로드\n",
    "- 정확히는 파일이 아닌 커밋내역을 업로드 하는 것\n",
    "- 로컬 저장소에서 커밋을 생성해서 원격 저장소에 업로드 할 수 있다.\n",
    "\n",
    "```\n",
    "git push\n",
    "```\n",
    "\n",
    "- 로컬 저장소 커밋을 원격 저장소에 업로드 하는 명령어\n",
    "- ```git push 저장소이름 브랜치이름``` 형식으로 작성합니다.\n",
    "- ```-u``` 옵션을 사용하면, 두 번째 커밋부터는 저장소이름과 브랜치이름 생략 가능"
   ]
  },
  {
   "attachments": {},
   "cell_type": "markdown",
   "metadata": {},
   "source": [
    "## 원격 저장소 가져오기\n",
    "\n",
    "```git clone```\n",
    "\n",
    "- 원격 저장소의 커밋 내역을 모두 가져와서, 로컬 저장소를 생성하는 명령어\n",
    "- clone \"복제\" 라는 뜻으로, ```git clone```명령어를 사용하면 원격 저장소를 통째로 복제해서 내 컴퓨터에 옮길 수 있다.\n",
    "\n",
    "```git clone 원격 저장소 주소```\n",
    "\n",
    "- git clone을 통해 생성된 로컬저장소는 git init, git remote add 가 이미 수행되어 있습니다."
   ]
  },
  {
   "attachments": {},
   "cell_type": "markdown",
   "metadata": {},
   "source": [
    "## 업데이트 명령어\n",
    "\n",
    "`git pull`\n",
    "\n",
    "- 원격 저장소의 변경 사항을 가져와 로컬 저장소를 업데이트 하는 명령어\n",
    "- 로컬 저장소와 원격 저장소의 내용이 완전 일치하면, `git pull`을 해도 아무런 변화가 일어나지 않습니다.\n",
    "\n",
    "`git pull 저장소이름 브랜치이름`\n",
    "\n",
    "`git pull origin master`"
   ]
  },
  {
   "attachments": {},
   "cell_type": "markdown",
   "metadata": {},
   "source": [
    "## `gitignore`\n",
    "\n",
    "- 특정 파일 혹은 폴더에 대해 git이 버전 관리를 하지 못하도록 저장하는것\n",
    "\n",
    "1. 민감한 개인정보가 담긴파일(전화번호, 계좌번호, 비밀번호, api key)\n",
    "2. OS(운영체제)에서 활용되는 파일\n",
    "3. IDE(통합 개발 환경) 에서 활용되는 파일\n",
    "4. 개발언어 또는 프레임워크에서 사용되는 파일\n",
    "\n",
    "### 사용방법\n",
    "\n",
    "- 반드시 이름이 .gitignore 인 파일을 생성 (파일 맨앞이 .이면 숨김파일 이라는 뜻)\n",
    "- .gitignore 파일은 .git 폴더와 동일한 위치에 생성한다.\n",
    "- 버전관리에서 제외하고 싶은 파일은 반드시 git add 전에 작성할것(한번 버전관리의 대상이 되면 이후에 .gitignore에 작성하더라도 무시되지 않음)\n",
    "\n",
    "### 쉽게 작성하는 방법\n",
    "\n",
    "- .gitignore 파일의 내용을 쉽게 작성할 수 있도록 도와주는 [사이트](https://gitignore.io)\n",
    "- 자신이 사용하고 있는 프로그래밍 언어, 프레임워크 검색 후 추가\n",
    "- 생성된 내용을 복사해서 .gitignore 파일에 붙여넣기\n",
    "- 절대로 확장자명이 달라서는 안된다.\n",
    "\n",
    "### 직접 작성하는 방법\n",
    "\n",
    "`.gitignore 패턴 규칙`\n",
    "\n",
    "1. 아무것도 없는 라인, #으로 시작하는 라인은 무시합니다.\n",
    "2. 디렉토리는 슬래시(/)를 끝에 사용하는 것으로 표현합니다.\n",
    "3. 표준 Glob 패턴을 사용한다.\n",
    "   1. *(asterisk)는 문자가 하나도 없거나 하나 이상을 의미합니다.\n",
    "   2. [abc]는 괄호 안에 문자 하나를 의미합니다.\n",
    "   3. ?는 문자 하나를 의미합니다.\n",
    "   4. [0-9]는 괄호 안에 0에서 9사이 문자중 하나를 의미합니다.\n",
    "   5. ** 는 디렉토리 내부의 디렉토리까지 지정할 수 있다.(중첩, 재귀)\n",
    "      1. (a/**/z 라고 작성하면 a/z, a/b/z, a/b/c/z 까지 모두 영향을 끼치게 된다.)\n",
    "4. !로 시작하는 패턴의 파일은 ignore(무시)하지 않습니다."
   ]
  },
  {
   "cell_type": "code",
   "execution_count": null,
   "metadata": {},
   "outputs": [],
   "source": [
    "dusts = [59, 24, 102]\n",
    "\n",
    "for value in dusts:\n",
    "    print(value)"
   ]
  },
  {
   "cell_type": "code",
   "execution_count": null,
   "metadata": {},
   "outputs": [],
   "source": [
    "for i in range(2, 10):\n",
    "    print(f\"====={i} 단=====\")\n",
    "    for j in range (1, 10):\n",
    "        print(f\"{i} * {j} = {i*j}\")"
   ]
  },
  {
   "cell_type": "code",
   "execution_count": 69,
   "metadata": {},
   "outputs": [
    {
     "name": "stdout",
     "output_type": "stream",
     "text": [
      "hello\n",
      "My name if\n",
      "GyoungHwan\n",
      "\n",
      "hello\n",
      "My name if\n",
      "GyoungHwan\n",
      "\n"
     ]
    }
   ],
   "source": [
    "def dddd():\n",
    "    print('hello')\n",
    "    print('My name if')\n",
    "    print('GyoungHwan\\n')\n",
    "    \n",
    "for i in range(2):\n",
    "    dddd()"
   ]
  },
  {
   "cell_type": "code",
   "execution_count": 72,
   "metadata": {},
   "outputs": [
    {
     "name": "stdout",
     "output_type": "stream",
     "text": [
      "1번째 번호 : 9\n",
      "2번째 번호 : 11\n",
      "3번째 번호 : 14\n",
      "4번째 번호 : 16\n",
      "5번째 번호 : 23\n",
      "6번째 번호 : 41\n"
     ]
    }
   ],
   "source": [
    "import random\n",
    "\n",
    "num = range(1,46)\n",
    "lotto = random.sample(num, 6)\n",
    "lotto.sort()\n",
    "\n",
    "n = 1\n",
    "for i in lotto:\n",
    "    print(f\"{n}번째 번호 : {i}\")\n",
    "    n += 1"
   ]
  },
  {
   "cell_type": "code",
   "execution_count": 93,
   "metadata": {},
   "outputs": [
    {
     "name": "stdout",
     "output_type": "stream",
     "text": [
      "jun\n",
      "52\n"
     ]
    }
   ],
   "source": [
    "import requests\n",
    "\n",
    "url = 'https://api.agify.io/?name=jun'\n",
    "response = requests.get(url).json()\n",
    "\n",
    "print(response.get('name'))\n",
    "print(response.get('age'))\n"
   ]
  },
  {
   "cell_type": "code",
   "execution_count": 111,
   "metadata": {},
   "outputs": [
    {
     "name": "stdout",
     "output_type": "stream",
     "text": [
      "drwtNo1 : 8\n",
      "drwtNo2 : 13\n",
      "drwtNo3 : 15\n",
      "drwtNo4 : 23\n",
      "drwtNo5 : 31\n",
      "drwtNo6 : 38\n",
      "BonusNo : 39\n"
     ]
    }
   ],
   "source": [
    "import requests\n",
    "\n",
    "num = int(input('몇회차 당첨번호? : '))\n",
    "url = 'https://www.dhlottery.co.kr/common.do?method=getLottoNumber&drwNo=' + str(num)\n",
    "response = requests.get(url).json()\n",
    "\n",
    "for i in range(1, 7):\n",
    "    print(f\"drwtNo{i} : {response.get('drwtNo' + str(i))}\")\n",
    "print(f\"BonusNo : {response.get('bnusNo')}\")"
   ]
  },
  {
   "cell_type": "code",
   "execution_count": 33,
   "metadata": {},
   "outputs": [
    {
     "name": "stdout",
     "output_type": "stream",
     "text": [
      "renetta.kulas\n",
      "pierre.stamm\n",
      "consuelo.watsica\n",
      "lucy.douglas\n",
      "haywood.deckow\n",
      "colton.marvin\n",
      "norman.larkin\n",
      "ward.wilderman\n",
      "bebe.kub\n",
      "carmine.moen\n",
      "['renetta.kulas', 'pierre.stamm', 'consuelo.watsica', 'lucy.douglas', 'haywood.deckow', 'colton.marvin', 'norman.larkin', 'ward.wilderman', 'bebe.kub', 'carmine.moen']\n"
     ]
    }
   ],
   "source": [
    "import requests\n",
    "\n",
    "url = 'https://random-data-api.com/api/v2/users?size=10'\n",
    "response = requests.get(url).json()\n",
    "\n",
    "user_list = []\n",
    "\n",
    "for user in response:\n",
    "    user_list.append(user.get('username'))\n",
    "    print(user.get('username'))\n",
    "    \n",
    "print(user_list)"
   ]
  },
  {
   "cell_type": "code",
   "execution_count": 43,
   "metadata": {},
   "outputs": [
    {
     "name": "stdout",
     "output_type": "stream",
     "text": [
      "{3, 4, 5, 6, 7, 8, 9, 10, 11, 12, 13, 14, 15, 16, 17, 18, 19}\n"
     ]
    }
   ],
   "source": [
    "dice1 = (1, 2, 3, 4, 5, 6)\n",
    "dice2 = (2, 3, 5, 7, 11, 13)\n",
    "a = []\n",
    "\n",
    "for i in dice1:\n",
    "    for j in dice2:\n",
    "        a.append(i +j)\n",
    "a = set(a)\n",
    "print(a)"
   ]
  },
  {
   "cell_type": "code",
   "execution_count": 54,
   "metadata": {},
   "outputs": [
    {
     "name": "stdout",
     "output_type": "stream",
     "text": [
      "5.0\n"
     ]
    },
    {
     "data": {
      "text/plain": [
       "22.36"
      ]
     },
     "execution_count": 54,
     "metadata": {},
     "output_type": "execute_result"
    }
   ],
   "source": [
    "import math\n",
    "a, b = 3, 4\n",
    "c = math.sqrt(a*a+ b*b)\n",
    "print(c)\n",
    "\n",
    "\n",
    "def hypotenuse(x, y):\n",
    "    result = math.sqrt(x*x+ y*y)\n",
    "    return round(result,2)\n",
    "\n",
    "hypotenuse(10, 20)"
   ]
  },
  {
   "cell_type": "code",
   "execution_count": 60,
   "metadata": {},
   "outputs": [
    {
     "name": "stdout",
     "output_type": "stream",
     "text": [
      "   February 2021\n",
      "Mo Tu We Th Fr Sa Su\n",
      " 1  2  3  4  5  6  7\n",
      " 8  9 10 11 12 13 14\n",
      "15 16 17 18 19 20 21\n",
      "22 23 24 25 26 27 28\n",
      "\n"
     ]
    }
   ],
   "source": [
    "import calendar\n",
    "\n",
    "c = calendar.TextCalendar()\n",
    "m = c.formatmonth(2021,2)\n",
    "print(m)"
   ]
  },
  {
   "cell_type": "code",
   "execution_count": 12,
   "metadata": {},
   "outputs": [
    {
     "ename": "ValueError",
     "evalue": "invalid literal for int() with base 10: ''",
     "output_type": "error",
     "traceback": [
      "\u001b[1;31m---------------------------------------------------------------------------\u001b[0m",
      "\u001b[1;31mValueError\u001b[0m                                Traceback (most recent call last)",
      "Cell \u001b[1;32mIn[12], line 1\u001b[0m\n\u001b[1;32m----> 1\u001b[0m T \u001b[39m=\u001b[39m \u001b[39mint\u001b[39;49m(\u001b[39minput\u001b[39;49m())\n\u001b[0;32m      3\u001b[0m \u001b[39mfor\u001b[39;00m test_case \u001b[39min\u001b[39;00m \u001b[39mrange\u001b[39m(\u001b[39m1\u001b[39m, T \u001b[39m+\u001b[39m \u001b[39m1\u001b[39m):\n\u001b[0;32m      4\u001b[0m     num_list \u001b[39m=\u001b[39m \u001b[39mlist\u001b[39m(\u001b[39mmap\u001b[39m(\u001b[39mint\u001b[39m, \u001b[39minput\u001b[39m()\u001b[39m.\u001b[39msplit()))\n",
      "\u001b[1;31mValueError\u001b[0m: invalid literal for int() with base 10: ''"
     ]
    }
   ],
   "source": [
    "T = int(input())\n",
    "\n",
    "for test_case in range(1, T + 1):\n",
    "    num_list = list(map(int, input().split()))\n",
    "    avg_sum = 0\n",
    "    \n",
    "    for i in num_list:\n",
    "        avg_sum += i\n",
    "        avg = round(avg_sum / len(num_list))\n",
    "    print(f\"#{test_case} {avg}\")"
   ]
  },
  {
   "cell_type": "code",
   "execution_count": 17,
   "metadata": {},
   "outputs": [
    {
     "ename": "KeyboardInterrupt",
     "evalue": "Interrupted by user",
     "output_type": "error",
     "traceback": [
      "\u001b[1;31m---------------------------------------------------------------------------\u001b[0m",
      "\u001b[1;31mKeyboardInterrupt\u001b[0m                         Traceback (most recent call last)",
      "Cell \u001b[1;32mIn[17], line 1\u001b[0m\n\u001b[1;32m----> 1\u001b[0m T \u001b[39m=\u001b[39m \u001b[39mint\u001b[39m(\u001b[39minput\u001b[39;49m())\n\u001b[0;32m      3\u001b[0m \u001b[39mfor\u001b[39;00m test_case \u001b[39min\u001b[39;00m \u001b[39mrange\u001b[39m(\u001b[39m1\u001b[39m, T \u001b[39m+\u001b[39m \u001b[39m1\u001b[39m):\n\u001b[0;32m      4\u001b[0m     num_list \u001b[39m=\u001b[39m \u001b[39mlist\u001b[39m(\u001b[39mmap\u001b[39m(\u001b[39mint\u001b[39m, \u001b[39minput\u001b[39m()\u001b[39m.\u001b[39msplit()))\n",
      "File \u001b[1;32mc:\\Users\\SSAFY\\AppData\\Local\\Programs\\Python\\Python311\\Lib\\site-packages\\ipykernel\\kernelbase.py:1187\u001b[0m, in \u001b[0;36mKernel.raw_input\u001b[1;34m(self, prompt)\u001b[0m\n\u001b[0;32m   1185\u001b[0m     msg \u001b[39m=\u001b[39m \u001b[39m\"\u001b[39m\u001b[39mraw_input was called, but this frontend does not support input requests.\u001b[39m\u001b[39m\"\u001b[39m\n\u001b[0;32m   1186\u001b[0m     \u001b[39mraise\u001b[39;00m StdinNotImplementedError(msg)\n\u001b[1;32m-> 1187\u001b[0m \u001b[39mreturn\u001b[39;00m \u001b[39mself\u001b[39;49m\u001b[39m.\u001b[39;49m_input_request(\n\u001b[0;32m   1188\u001b[0m     \u001b[39mstr\u001b[39;49m(prompt),\n\u001b[0;32m   1189\u001b[0m     \u001b[39mself\u001b[39;49m\u001b[39m.\u001b[39;49m_parent_ident[\u001b[39m\"\u001b[39;49m\u001b[39mshell\u001b[39;49m\u001b[39m\"\u001b[39;49m],\n\u001b[0;32m   1190\u001b[0m     \u001b[39mself\u001b[39;49m\u001b[39m.\u001b[39;49mget_parent(\u001b[39m\"\u001b[39;49m\u001b[39mshell\u001b[39;49m\u001b[39m\"\u001b[39;49m),\n\u001b[0;32m   1191\u001b[0m     password\u001b[39m=\u001b[39;49m\u001b[39mFalse\u001b[39;49;00m,\n\u001b[0;32m   1192\u001b[0m )\n",
      "File \u001b[1;32mc:\\Users\\SSAFY\\AppData\\Local\\Programs\\Python\\Python311\\Lib\\site-packages\\ipykernel\\kernelbase.py:1230\u001b[0m, in \u001b[0;36mKernel._input_request\u001b[1;34m(self, prompt, ident, parent, password)\u001b[0m\n\u001b[0;32m   1227\u001b[0m \u001b[39mexcept\u001b[39;00m \u001b[39mKeyboardInterrupt\u001b[39;00m:\n\u001b[0;32m   1228\u001b[0m     \u001b[39m# re-raise KeyboardInterrupt, to truncate traceback\u001b[39;00m\n\u001b[0;32m   1229\u001b[0m     msg \u001b[39m=\u001b[39m \u001b[39m\"\u001b[39m\u001b[39mInterrupted by user\u001b[39m\u001b[39m\"\u001b[39m\n\u001b[1;32m-> 1230\u001b[0m     \u001b[39mraise\u001b[39;00m \u001b[39mKeyboardInterrupt\u001b[39;00m(msg) \u001b[39mfrom\u001b[39;00m \u001b[39mNone\u001b[39m\n\u001b[0;32m   1231\u001b[0m \u001b[39mexcept\u001b[39;00m \u001b[39mException\u001b[39;00m:\n\u001b[0;32m   1232\u001b[0m     \u001b[39mself\u001b[39m\u001b[39m.\u001b[39mlog\u001b[39m.\u001b[39mwarning(\u001b[39m\"\u001b[39m\u001b[39mInvalid Message:\u001b[39m\u001b[39m\"\u001b[39m, exc_info\u001b[39m=\u001b[39m\u001b[39mTrue\u001b[39;00m)\n",
      "\u001b[1;31mKeyboardInterrupt\u001b[0m: Interrupted by user"
     ]
    }
   ],
   "source": [
    "T = int(input())\n",
    "\n",
    "for test_case in range(1, T + 1):\n",
    "    num_list = list(map(int, input().split()))\n",
    "    big_num = 0\n",
    "    \n",
    "    for i in range(0, len(num_list)):\n",
    "        if num_list[i] > num_list[i-1]:\n",
    "            big_num = i\n",
    "    print(f\"#{test_case} {big_num}\")\n"
   ]
  },
  {
   "cell_type": "code",
   "execution_count": 31,
   "metadata": {},
   "outputs": [
    {
     "name": "stdout",
     "output_type": "stream",
     "text": [
      "#1 25\n"
     ]
    }
   ],
   "source": [
    "T = int(input())\n",
    "\n",
    "for test_case in range(1, T + 1):\n",
    "    N, M = list(map(int, input().split()))\n",
    "    a = list(map(int, input().split()))\n",
    "    b = list(map(int, input().split()))\n",
    "    c = abs(N-M)\n",
    "    max_sum = 0\n",
    "    \n",
    "    if N >= M:\n",
    "        for i in range(c+1):\n",
    "            num_sum = 0\n",
    "            for j in range(M):\n",
    "                num_sum += a[j + i] * b[j]\n",
    "            if num_sum >= max_sum:\n",
    "                max_sum = num_sum\n",
    "  \n",
    "    elif N < M:\n",
    "    \tfor i in range(c+1):\n",
    "            num_sum = 0\n",
    "            for j in range(N):\n",
    "                num_sum += a[j] * b[j + i]\n",
    "            if num_sum >= max_sum:\n",
    "                max_sum = num_sum\n",
    "    print(f\"#{test_case} {max_sum}\")"
   ]
  },
  {
   "cell_type": "code",
   "execution_count": 2,
   "metadata": {},
   "outputs": [],
   "source": [
    "def my_function():\n",
    "    return \"return!!\""
   ]
  },
  {
   "cell_type": "code",
   "execution_count": 9,
   "metadata": {},
   "outputs": [
    {
     "name": "stdout",
     "output_type": "stream",
     "text": [
      "#1 2\n",
      "#2 -1\n",
      "#2 2\n"
     ]
    }
   ],
   "source": [
    "T = int(input())\n",
    "for test_case in range(1, T + 1):\n",
    "    n, k = map(int, input().split())\n",
    "    planet = list(map(int, input().split()))\n",
    "    vic = 0\n",
    "    planet.sort()\n",
    "\n",
    "    for i in range(1, n+1):\n",
    "        if k >= planet[i-1]:\n",
    "            pass\n",
    "        elif k < planet[i - 1]:\n",
    "            k = k + planet[i-2]\n",
    "            vic = vic + 1\n",
    "            if k < planet[i - 1]:\n",
    "                k = k + planet[i-3]\n",
    "                vic = vic + 1\n",
    "                if k < planet[i - 1]:\n",
    "                    print(f\"#{test_case} -1\")\n",
    "                \n",
    "        \n",
    "    "
   ]
  }
 ],
 "metadata": {
  "kernelspec": {
   "display_name": "Jupyter",
   "language": "python",
   "name": "conda"
  },
  "language_info": {
   "codemirror_mode": {
    "name": "ipython",
    "version": 3
   },
   "file_extension": ".py",
   "mimetype": "text/x-python",
   "name": "python",
   "nbconvert_exporter": "python",
   "pygments_lexer": "ipython3",
   "version": "3.11.1"
  },
  "orig_nbformat": 4
 },
 "nbformat": 4,
 "nbformat_minor": 2
}
